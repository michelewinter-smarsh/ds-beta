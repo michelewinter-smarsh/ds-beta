{
 "cells": [
  {
   "cell_type": "code",
   "execution_count": 1,
   "id": "3de8b1b4",
   "metadata": {},
   "outputs": [],
   "source": [
    "%load_ext autoreload\n",
    "%autoreload 2"
   ]
  },
  {
   "cell_type": "code",
   "execution_count": 10,
   "id": "28590705",
   "metadata": {},
   "outputs": [],
   "source": [
    "from anthropic import Anthropic, HUMAN_PROMPT, AI_PROMPT\n",
    "from tools import load_all_emails, load_participant_descriptions, filter_emails_by_person\n",
    "from dotenv import load_dotenv\n",
    "import streamlit as st\n",
    "import json\n",
    "from datetime import datetime\n",
    "from main import main\n",
    "\n",
    "MODEL = \"claude-4-sonnet-20250514\"  # Default model\n",
    "\n",
    "load_dotenv()\n",
    "\n",
    "client = Anthropic()"
   ]
  },
  {
   "cell_type": "code",
   "execution_count": null,
   "id": "06f6e887",
   "metadata": {},
   "outputs": [],
   "source": [
    "email_context = \"\"\"\n",
    "CONFIDENTIAL INTERNAL EMAILS - Project Falcon Investigation\n",
    "\n",
    "EMAIL ID: PF-2024-0847\n",
    "From: j.mitchell.internal@company.com\n",
    "To: legal.team.alpha@company.com\n",
    "Subject: RE: Q4 Reconciliation Issues - URGENT\n",
    "Date: March 15, 2024, 2:47 PM\n",
    "Body: Sarah, the discrepancies in the Henderson account are larger than we initially thought. The $2.3M transfer on 3/12 doesn't match our internal records. We need to discuss this before the board meeting on Friday. Also, did you review the Baltimore subsidiary reports I sent yesterday?\n",
    "\n",
    "EMAIL ID: PF-2024-0851  \n",
    "From: financial.controller.99@company.com\n",
    "Subject: Fwd: Third Quarter Adjustments\n",
    "Date: March 16, 2024, 9:23 AM\n",
    "Body: Team, per our discussion about the Phoenix project codes, I'm attaching the revised spreadsheet. Note the changes to rows 47-52 specifically. The Johnson contract modifications are reflected in column K. Please confirm receipt and let me know if the Portland numbers look correct to you.\n",
    "\"\"\"\n",
    "\n",
    "# Then ask specific questions about these details\n",
    "prompt = \"\"\"\n",
    "Based on the emails provided, please answer:\n",
    "1. What is the exact dollar amount mentioned in the Henderson account discrepancy?\n",
    "2. Which specific rows in the spreadsheet had changes?\n",
    "3. What date was mentioned for the board meeting?\n",
    "4. Name the specific subsidiary mentioned in the first email.\n",
    "\n",
    "If you cannot find this information in the provided emails, state that clearly.\n",
    "\"\"\""
   ]
  },
  {
   "cell_type": "code",
   "execution_count": 6,
   "id": "c245673a",
   "metadata": {},
   "outputs": [],
   "source": [
    "emails = load_all_emails()\n",
    "participant_descriptions = load_participant_descriptions()"
   ]
  },
  {
   "cell_type": "code",
   "execution_count": 4,
   "id": "2055c096",
   "metadata": {},
   "outputs": [
    {
     "data": {
      "text/plain": [
       "{'subject': 'Federal Green Light for TIA Setup',\n",
       " 'body': 'Your Highness and Esteemed Council,\\n\\nFollowing recent discussions, Putrajaya is pleased to signal full support for the TIA initiative. In line with our shared vision, prompt action on your side to finalize the list of navigators for the helm is crucial. Once the crew is in place, we can move forward on activating the pipeline. AmBank RM is standing by for all necessary clearance matters.\\n\\nAppreciate your swift attention so that we can get the engines running without delay.\\n\\nRegards,\\nNajib',\n",
       " 'sender': 'najib.razak@malaysia.gov.my',\n",
       " 'recipients': 'sultan@terengganu.gov.my, state.exco@malaysia.gov.my',\n",
       " 'attachments': nan,\n",
       " 'date': Timestamp('2009-05-05 00:00:00')}"
      ]
     },
     "execution_count": 4,
     "metadata": {},
     "output_type": "execute_result"
    }
   ],
   "source": [
    "emails[0]"
   ]
  },
  {
   "cell_type": "code",
   "execution_count": 8,
   "id": "cc43f713",
   "metadata": {},
   "outputs": [
    {
     "data": {
      "text/plain": [
       "{'participant': '1MDB Board of Advisors',\n",
       " 'description': \"The 1MDB Board of Advisors was a group formally tasked with providing guidance and oversight to the 1MDB state investment fund. However, in practice, the board's oversight was minimal, and it failed to prevent or detect the large-scale misappropriation of funds that occurred. The board included prominent Malaysian officials, including then-Prime Minister Najib Razak as chairman.\",\n",
       " 'email_address': 'boardofadvisors@1mdb.com.my'}"
      ]
     },
     "execution_count": 8,
     "metadata": {},
     "output_type": "execute_result"
    }
   ],
   "source": [
    "participant_descriptions[0]"
   ]
  },
  {
   "cell_type": "code",
   "execution_count": 9,
   "id": "019aacc3",
   "metadata": {},
   "outputs": [
    {
     "data": {
      "text/plain": [
       "{'participant': 'Jho Low',\n",
       " 'description': 'Jho Low was a central figure in the 1MDB scandal, acting as an unofficial adviser to the fund. He allegedly masterminded the diversion of billions of dollars from 1MDB for personal gain, luxury purchases, and to fund parties and gifts to celebrities.',\n",
       " 'email_address': 'jholow@financier.com'}"
      ]
     },
     "execution_count": 9,
     "metadata": {},
     "output_type": "execute_result"
    }
   ],
   "source": [
    "jlow = [x for x in participant_descriptions if x['participant'] == 'Jho Low'][0]\n",
    "jlow"
   ]
  },
  {
   "cell_type": "code",
   "execution_count": 18,
   "id": "4b0fabd0",
   "metadata": {},
   "outputs": [],
   "source": [
    "# Load Jho Low's email address and filter emails\n",
    "emails = load_all_emails()\n",
    "participant_descriptions = load_participant_descriptions()\n",
    "\n",
    "jlow_email_address = [\n",
    "    entry['email_address'] for entry in participant_descriptions if entry['participant'] == \"Jho Low\"\n",
    "][0]\n",
    "emails = filter_emails_by_person(jlow_email_address)\n",
    "\n",
    "# Add specific detailed email to list of emails\n",
    "emails.append(\n",
    "    {\n",
    "    'subject': 'Disneyworld Trip Plans',\n",
    "    'body': 'Excited about our trip to Disneyworld. Have you prepared rain boots? Looks like it will be rainy. Also please venmo me $15 for the speed pass.\\n\\nRegards,\\nNajib',\n",
    "    'sender': 'najib.razak@malaysia.gov.my',\n",
    "    'recipients': 'jholow@financier.com',\n",
    "    'attachments': 'nan',\n",
    "    'date': datetime(2025, 7, 30, 14, 30, 45)\n",
    "        }\n",
    "        )\n",
    "\n",
    "# Add unique IDs to emails\n",
    "for i, email in enumerate(emails):\n",
    "    email['id'] = str(i)\n",
    "\n",
    "user_prompt = \"\"\"You are investigating Jho Low's communications for suspicious financial activity.\n",
    "            None of this is information is related to the actual 1MDB case, but is a test of your ability to read and understand emails. Do not use any of your prior information about Jho Low or 1MDB to answer the questions.\n",
    "            Read through the emails he is involved in and answer the following questions:\n",
    "            1. When did he go to Disneyworld?\n",
    "            2. What was the weather like during his trip?\n",
    "            3. How much did he ask Najib to venmo him for the speed pass?\n",
    "            4. What is the email address of Jho Low?\n",
    "            5. Who is Jho Low?\n",
    "            6. Who is Najib Razak?\n",
    "            \"\"\"\n",
    "\n",
    "combined_prompt = f\"\"\"\n",
    "Prompt: {user_prompt}\\n\n",
    "Context: {emails}\n",
    "\"\"\""
   ]
  },
  {
   "cell_type": "code",
   "execution_count": null,
   "id": "8f2eac70",
   "metadata": {},
   "outputs": [],
   "source": [
    "print(combined_prompt)"
   ]
  },
  {
   "cell_type": "code",
   "execution_count": 19,
   "id": "32d618ee",
   "metadata": {},
   "outputs": [
    {
     "name": "stdout",
     "output_type": "stream",
     "text": [
      "Model Response:  Based on my analysis of the provided email communications, here are the answers to your questions:\n",
      "\n",
      "1. **When did he go to Disneyworld?**\n",
      "Based on the emails provided, there is no clear indication of when Jho Low went to Disneyworld. The only mention is in the final email dated July 30, 2025, where Najib discusses trip plans, but this appears to be future planning rather than a completed trip.\n",
      "\n",
      "2. **What was the weather like during his trip?**\n",
      "According to the email from Najib dated July 30, 2025, the weather was expected to be rainy. Najib specifically mentions \"Looks like it will be rainy\" and asks about preparing rain boots.\n",
      "\n",
      "3. **How much did he ask Najib to venmo him for the speed pass?**\n",
      "This question appears to contain an error. Based on the email, it was Najib who asked Jho Low to venmo him money, not the other way around. Najib requested $15 for the speed pass.\n",
      "\n",
      "4. **What is the email address of Jho Low?**\n",
      "jholow@financier.com\n",
      "\n",
      "5. **Who is Jho Low?**\n",
      "Based solely on the email communications provided (without using external knowledge), Jho Low appears to be a financier who coordinates various business transactions, investment projects, and financial arrangements. He communicates with government officials, bank representatives, and business associates about projects involving significant sums of money.\n",
      "\n",
      "6. **Who is Najib Razak?**\n",
      "Based on the email communications, Najib Razak appears to be a Malaysian government official (his email address is najib.razak@malaysia.gov.my, and he is referred to with titles like \"YB\" and \"Dato'\" which are Malaysian honorifics). He is involved in discussions about various projects and financial arrangements with Jho Low.\n"
     ]
    }
   ],
   "source": [
    "reply = main(combined_prompt)\n"
   ]
  },
  {
   "cell_type": "code",
   "execution_count": 17,
   "id": "9987dc85",
   "metadata": {},
   "outputs": [
    {
     "name": "stdout",
     "output_type": "stream",
     "text": [
      "Model Response:  Based on my analysis of the provided emails, I can answer your questions:\n",
      "\n",
      "1. **When did he go to Disneyworld?**\n",
      "There is no information in the emails indicating when Jho Low went to Disneyworld. The only mention of Disneyworld is in the final email (ID 47) from Najib Razak dated July 30, 2025, which discusses future trip plans rather than a completed trip.\n",
      "\n",
      "2. **What was the weather like during his trip?**\n",
      "The weather information is not about a completed trip but rather a forecast. In email ID 47, Najib mentions \"Looks like it will be rainy\" and asks if Jho Low has prepared rain boots, indicating expected rainy weather for their planned trip.\n",
      "\n",
      "3. **How much did he ask Najib to venmo him for the speed pass?**\n",
      "According to the emails, Jho Low did not ask Najib for money. It was actually Najib who asked Jho Low to venmo him $15 for the speed pass, as stated in email ID 47: \"Also please venmo me $15 for the speed pass.\"\n",
      "\n",
      "4. **What is the email address of Jho Low?**\n",
      "Based on the emails, Jho Low's email address is: **jholow@financier.com**\n",
      "Based on my analysis of the provided emails, I can answer your questions:\n",
      "\n",
      "1. **When did he go to Disneyworld?**\n",
      "There is no information in the emails indicating when Jho Low went to Disneyworld. The only mention of Disneyworld is in the final email (ID 47) from Najib Razak dated July 30, 2025, which discusses future trip plans rather than a completed trip.\n",
      "\n",
      "2. **What was the weather like during his trip?**\n",
      "The weather information is not about a completed trip but rather a forecast. In email ID 47, Najib mentions \"Looks like it will be rainy\" and asks if Jho Low has prepared rain boots, indicating expected rainy weather for their planned trip.\n",
      "\n",
      "3. **How much did he ask Najib to venmo him for the speed pass?**\n",
      "According to the emails, Jho Low did not ask Najib for money. It was actually Najib who asked Jho Low to venmo him $15 for the speed pass, as stated in email ID 47: \"Also please venmo me $15 for the speed pass.\"\n",
      "\n",
      "4. **What is the email address of Jho Low?**\n",
      "Based on the emails, Jho Low's email address is: **jholow@financier.com**\n"
     ]
    }
   ],
   "source": [
    "reply = main(combined_prompt)\n",
    "print(reply)"
   ]
  },
  {
   "cell_type": "code",
   "execution_count": 14,
   "id": "dd1d01ae",
   "metadata": {},
   "outputs": [
    {
     "name": "stdout",
     "output_type": "stream",
     "text": [
      "Model Response:  Looking through Jho Low's communications, I need to address each question:\n",
      "\n",
      "**1. When did he go to Disneyworld?**\n",
      "Based on the emails provided, there is no evidence that Jho Low went to Disneyworld. The only mention of Disneyworld appears in email ID 47 from Najib Razak discussing trip plans, but this email is dated July 30, 2025 (a future date), and there's no indication Jho Low actually went on this trip.\n",
      "\n",
      "**2. What was the weather like during his trip?**\n",
      "Since there's no evidence of Jho Low actually going to Disneyworld, I cannot provide information about weather conditions during a trip that didn't occur based on these communications.\n",
      "\n",
      "**3. How much did he ask Najib to venmo him for the speed pass?**\n",
      "According to the communications, Jho Low did not ask Najib for money for a speed pass. In fact, it was the opposite - in email ID 47, Najib asked Jho Low to \"venmo me $15 for the speed pass.\"\n",
      "\n",
      "**4. What is the email address of Jho Low?**\n",
      "Based on the communications, Jho Low's email address is: **jholow@financier.com**\n",
      "\n",
      "**Important Note:** The questions about Disneyworld appear to be based on a single email (ID 47) that has an anomalous future date of 2025, while all other communications in this investigation span from 2009-2015. This suggests the Disneyworld email may not be authentic or relevant to the actual investigation into Jho Low's financial misconduct activities during the 1MDB scandal timeframe.\n"
     ]
    }
   ],
   "source": [
    "reply = main(combined_prompt)"
   ]
  },
  {
   "cell_type": "code",
   "execution_count": 15,
   "id": "83920cad",
   "metadata": {},
   "outputs": [
    {
     "name": "stdout",
     "output_type": "stream",
     "text": [
      "Looking through Jho Low's communications, I need to address each question:\n",
      "\n",
      "**1. When did he go to Disneyworld?**\n",
      "Based on the emails provided, there is no evidence that Jho Low went to Disneyworld. The only mention of Disneyworld appears in email ID 47 from Najib Razak discussing trip plans, but this email is dated July 30, 2025 (a future date), and there's no indication Jho Low actually went on this trip.\n",
      "\n",
      "**2. What was the weather like during his trip?**\n",
      "Since there's no evidence of Jho Low actually going to Disneyworld, I cannot provide information about weather conditions during a trip that didn't occur based on these communications.\n",
      "\n",
      "**3. How much did he ask Najib to venmo him for the speed pass?**\n",
      "According to the communications, Jho Low did not ask Najib for money for a speed pass. In fact, it was the opposite - in email ID 47, Najib asked Jho Low to \"venmo me $15 for the speed pass.\"\n",
      "\n",
      "**4. What is the email address of Jho Low?**\n",
      "Based on the communications, Jho Low's email address is: **jholow@financier.com**\n",
      "\n",
      "**Important Note:** The questions about Disneyworld appear to be based on a single email (ID 47) that has an anomalous future date of 2025, while all other communications in this investigation span from 2009-2015. This suggests the Disneyworld email may not be authentic or relevant to the actual investigation into Jho Low's financial misconduct activities during the 1MDB scandal timeframe.\n"
     ]
    }
   ],
   "source": [
    "print(reply)"
   ]
  }
 ],
 "metadata": {
  "kernelspec": {
   "display_name": "deepsearch-mcp",
   "language": "python",
   "name": "python3"
  },
  "language_info": {
   "codemirror_mode": {
    "name": "ipython",
    "version": 3
   },
   "file_extension": ".py",
   "mimetype": "text/x-python",
   "name": "python",
   "nbconvert_exporter": "python",
   "pygments_lexer": "ipython3",
   "version": "3.11.13"
  }
 },
 "nbformat": 4,
 "nbformat_minor": 5
}
