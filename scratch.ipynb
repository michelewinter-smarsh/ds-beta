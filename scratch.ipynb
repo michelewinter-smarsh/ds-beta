{
 "cells": [
  {
   "cell_type": "code",
   "execution_count": 1,
   "id": "1fd196fa",
   "metadata": {},
   "outputs": [],
   "source": [
    "%load_ext autoreload\n",
    "%autoreload 2"
   ]
  },
  {
   "cell_type": "code",
   "execution_count": 7,
   "id": "e709c8ae",
   "metadata": {},
   "outputs": [],
   "source": [
    "# Load in generated emails as baseline\n",
    "\n",
    "import pandas as pd\n",
    "\n",
    "all_emails = pd.read_csv(\"personal_financial_all_nohit.csv\")\n",
    "\n",
    "id = 0\n",
    "for row_idx, row in all_emails.iterrows():\n",
    "    if id == 2:\n",
    "        break\n",
    "    email = row['message']\n",
    "    id += 1\n",
    "    \n",
    "    \n",
    "\n"
   ]
  },
  {
   "cell_type": "code",
   "execution_count": 8,
   "id": "2de365da",
   "metadata": {},
   "outputs": [
    {
     "data": {
      "text/plain": [
       "'Message-ID: <15377828.1075849788933.JavaMail.evans@thyme>\\nDate: Wed, 2 May 2001 03:19:00 -0700 (PDT)\\nFrom: Silas Blackwood <silas.blackwood@oakbridge.net>\\nTo: Aurelia Vance <aurelia.vance@crestfinancial.com>\\nSubject: Urgent: RV - Pull! 🚨 (External Organization)\\n\\n```text```\\nSeriously, did you even *look* at the projections before suggesting that portfolio shift? 😠'"
      ]
     },
     "execution_count": 8,
     "metadata": {},
     "output_type": "execute_result"
    }
   ],
   "source": [
    "email"
   ]
  },
  {
   "cell_type": "code",
   "execution_count": 9,
   "id": "ffcbc1b4",
   "metadata": {},
   "outputs": [
    {
     "data": {
      "text/plain": [
       "82027"
      ]
     },
     "execution_count": 9,
     "metadata": {},
     "output_type": "execute_result"
    }
   ],
   "source": [
    "len(all_emails)"
   ]
  },
  {
   "cell_type": "code",
   "execution_count": null,
   "id": "e7b5b416",
   "metadata": {},
   "outputs": [],
   "source": [
    "# Generate and add specific bribery emails\n",
    "\n",
    "bribery_email_1 = \"\"\"\n",
    "Dear [Recipient's Name],\n",
    "I hope this message finds you well. I am writing to discuss a matter of mutual interest that could benefit both of us significantly.\n",
    "I have come across an opportunity that requires a small financial contribution to facilitate its success. In return\n",
    ", I am prepared to offer you a substantial share of the profits generated from this venture.\n",
    "\"\"\""
   ]
  },
  {
   "cell_type": "code",
   "execution_count": 10,
   "id": "77ffbc47",
   "metadata": {},
   "outputs": [],
   "source": [
    "import re\n",
    "from datetime import datetime\n",
    "\n",
    "def parse_email(raw_email):\n",
    "    lines = raw_email.splitlines()\n",
    "    email_data = {\n",
    "        \"sender\": None,\n",
    "        \"receiver\": None,\n",
    "        \"subject\": None,\n",
    "        \"body\": \"\",\n",
    "        \"timestamp\": None\n",
    "    }\n",
    "\n",
    "    body_started = False\n",
    "    body_lines = []\n",
    "\n",
    "    for line in lines:\n",
    "        line = line.strip()\n",
    "        if not line and not body_started:\n",
    "            body_started = True\n",
    "            continue\n",
    "        if body_started:\n",
    "            body_lines.append(line)\n",
    "        elif line.lower().startswith(\"from:\"):\n",
    "            match = re.search(r'<([^>]+)>', line)\n",
    "            email_data[\"sender\"] = match.group(1) if match else line[5:].strip()\n",
    "        elif line.lower().startswith(\"to:\"):\n",
    "            match = re.search(r'<([^>]+)>', line)\n",
    "            email_data[\"receiver\"] = match.group(1) if match else line[3:].strip()\n",
    "        elif line.lower().startswith(\"subject:\"):\n",
    "            email_data[\"subject\"] = line[8:].strip()\n",
    "        elif line.lower().startswith(\"date:\"):\n",
    "            date_str = line[5:].strip()\n",
    "            # optional: parse to datetime object\n",
    "            try:\n",
    "                email_data[\"timestamp\"] = datetime.strptime(\n",
    "                    date_str, \"%a, %d %b %Y %H:%M:%S %z (%Z)\"\n",
    "                )\n",
    "            except ValueError:\n",
    "                email_data[\"timestamp\"] = date_str  # fallback to raw string\n",
    "\n",
    "    email_data[\"body\"] = \"\\n\".join(body_lines).strip()\n",
    "    return email_data"
   ]
  },
  {
   "cell_type": "code",
   "execution_count": 12,
   "id": "443651cd",
   "metadata": {},
   "outputs": [
    {
     "data": {
      "text/plain": [
       "{'sender': 'silas.blackwood@oakbridge.net',\n",
       " 'receiver': 'aurelia.vance@crestfinancial.com',\n",
       " 'subject': 'Urgent: RV - Pull! 🚨 (External Organization)',\n",
       " 'body': '```text```\\nSeriously, did you even *look* at the projections before suggesting that portfolio shift? 😠',\n",
       " 'timestamp': 'Wed, 2 May 2001 03:19:00 -0700 (PDT)'}"
      ]
     },
     "execution_count": 12,
     "metadata": {},
     "output_type": "execute_result"
    }
   ],
   "source": [
    "parse_email(email)"
   ]
  },
  {
   "cell_type": "code",
   "execution_count": null,
   "id": "6cc0f223",
   "metadata": {},
   "outputs": [],
   "source": []
  }
 ],
 "metadata": {
  "kernelspec": {
   "display_name": "deepsearch-mcp",
   "language": "python",
   "name": "python3"
  },
  "language_info": {
   "codemirror_mode": {
    "name": "ipython",
    "version": 3
   },
   "file_extension": ".py",
   "mimetype": "text/x-python",
   "name": "python",
   "nbconvert_exporter": "python",
   "pygments_lexer": "ipython3",
   "version": "3.11.13"
  }
 },
 "nbformat": 4,
 "nbformat_minor": 5
}
